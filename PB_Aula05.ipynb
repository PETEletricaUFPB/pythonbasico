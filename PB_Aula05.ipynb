{
  "nbformat": 4,
  "nbformat_minor": 0,
  "metadata": {
    "colab": {
      "provenance": []
    },
    "kernelspec": {
      "name": "python3",
      "display_name": "Python 3"
    },
    "language_info": {
      "name": "python"
    }
  },
  "cells": [
    {
      "cell_type": "markdown",
      "source": [
        "###Python Básico - Aula 05\n",
        "\n",
        "Conteúdo:\n",
        "\n",
        "* Definição de Módulos\n",
        "* Sintaxe\n",
        "*   Aplicações de Módulos\n",
        " * math\n",
        " * random\n",
        "* Definição de Biblioteca\n",
        "*   Aplicações de Bibliotecas\n",
        " * matplotlib\n",
        " * numpy (conteúdo adicional)\n",
        "\n",
        "\n",
        "\n",
        "\n",
        "\n"
      ],
      "metadata": {
        "id": "5T9-ykBZ5M5y"
      }
    },
    {
      "cell_type": "markdown",
      "source": [
        "##Módulos\n",
        "Códigos que podem ser importados para o seu programa para auxiliar na resolução de determinado problema."
      ],
      "metadata": {
        "id": "sZvmkI-o_2vN"
      }
    },
    {
      "cell_type": "markdown",
      "source": [
        "####**Definição**\n",
        "Os módulos podem ser vistos como um arquivo que possui um conjunto de funções que podem ser utilizadas ao serem importadadas\n",
        "\n",
        "####**Motivações**\n",
        "\n",
        "\n",
        "*   Reaproveitamento de código\n",
        "*   Organização\n",
        "*   Facilita o reparo e a melhoria em futuros projetos\n",
        "\n"
      ],
      "metadata": {
        "id": "jTnzDdYuNnv0"
      }
    },
    {
      "cell_type": "markdown",
      "source": [
        "####Sintaxe"
      ],
      "metadata": {
        "id": "-5r-9VT2ynFW"
      }
    },
    {
      "cell_type": "code",
      "source": [
        "#Importando módulos\n",
        "\n",
        "import math\n",
        "import random"
      ],
      "metadata": {
        "id": "wav-aZ0Jx40x"
      },
      "execution_count": null,
      "outputs": []
    },
    {
      "cell_type": "code",
      "source": [
        "#Importando módulos com apelidos para serem utilizados no código\n",
        "\n",
        "import math as mt\n",
        "import random as aleatorio\n",
        "\n",
        "#se eu for utilizar funções da math, eu utilizo o apelido mt, se eu for utilizar funções da random, eu utilizo o apelido aleatorio"
      ],
      "metadata": {
        "id": "smAYxaNFx5Dn"
      },
      "execution_count": null,
      "outputs": []
    },
    {
      "cell_type": "code",
      "source": [
        "#Importando apenas uma função do módulo\n",
        "from math import pi\n",
        "\n",
        "print(pi)"
      ],
      "metadata": {
        "colab": {
          "base_uri": "https://localhost:8080/"
        },
        "id": "nipOO3jbSTiM",
        "outputId": "10c72b34-24ce-4ab0-b78c-885013dd3115"
      },
      "execution_count": null,
      "outputs": [
        {
          "output_type": "stream",
          "name": "stdout",
          "text": [
            "3.141592653589793\n"
          ]
        }
      ]
    },
    {
      "cell_type": "code",
      "source": [
        "#Importando apenas uma função do módulo e dando uma apelido a essa função importada\n",
        "\n",
        "from math import pi as py\n",
        "\n",
        "print(py)"
      ],
      "metadata": {
        "colab": {
          "base_uri": "https://localhost:8080/"
        },
        "id": "7FjauLwLyI9F",
        "outputId": "e4fbcd7f-f5e1-40d6-efc9-607eb8ab34b3"
      },
      "execution_count": null,
      "outputs": [
        {
          "output_type": "stream",
          "name": "stdout",
          "text": [
            "3.141592653589793\n"
          ]
        }
      ]
    },
    {
      "cell_type": "markdown",
      "source": [
        "Exemplo 1: Um código que retorna o logaritmo natural de 10"
      ],
      "metadata": {
        "id": "htok66ppzQ0H"
      }
    },
    {
      "cell_type": "code",
      "source": [
        "#importando o módulo math com um apelido de mt\n",
        "\n",
        "import math as mt\n",
        "\n",
        "logaritmo_natural = mt.log(10) #chamando uma função pertencente ao módulo math e enviando o valor retornado da função log() para uma variável\n",
        "\n",
        "print(mt.log(10)) #enviando a variável para tela"
      ],
      "metadata": {
        "colab": {
          "base_uri": "https://localhost:8080/"
        },
        "id": "cVKr43BIwTQv",
        "outputId": "52dec999-7e45-4b8c-e3b6-d225908bbb0c"
      },
      "execution_count": null,
      "outputs": [
        {
          "output_type": "stream",
          "name": "stdout",
          "text": [
            "2.302585092994046\n"
          ]
        }
      ]
    },
    {
      "cell_type": "markdown",
      "source": [
        "Exemplo 2: Um código que importa as funções de cosseno e seno e envia na tela o cosseno de 0 e seno 0"
      ],
      "metadata": {
        "id": "20pqeFipzRo2"
      }
    },
    {
      "cell_type": "code",
      "source": [
        "# Exemplo 2\n",
        "\n",
        "\n",
        "from math import sin, cos\n",
        "\n",
        "print(sin(0))\n",
        "print(cos(0))"
      ],
      "metadata": {
        "colab": {
          "base_uri": "https://localhost:8080/"
        },
        "id": "gKOnQruSLqRS",
        "outputId": "dbd6dc0b-6cec-4e58-b04d-f09b48cbe42b"
      },
      "execution_count": null,
      "outputs": [
        {
          "output_type": "stream",
          "name": "stdout",
          "text": [
            "0.0\n",
            "1.0\n"
          ]
        }
      ]
    },
    {
      "cell_type": "code",
      "source": [
        "# Exemplo 2\n",
        "# Criando \"Apelido\" para o conteúdo importado\n",
        "\n",
        "import math as mt\n",
        "\n",
        "print(mt.sin(0))\n",
        "print(mt.cos(0))"
      ],
      "metadata": {
        "colab": {
          "base_uri": "https://localhost:8080/"
        },
        "id": "0tNLUK7vMKWa",
        "outputId": "e35edcf1-58a2-4a4a-b8b9-54cf83437322"
      },
      "execution_count": null,
      "outputs": [
        {
          "output_type": "stream",
          "name": "stdout",
          "text": [
            "0.0\n",
            "1.0\n"
          ]
        }
      ]
    },
    {
      "cell_type": "markdown",
      "source": [
        "Exemplo 3: Um código que envia o cosseno de 0 até 45"
      ],
      "metadata": {
        "id": "Le6TeVec2B4k"
      }
    },
    {
      "cell_type": "code",
      "source": [
        "import math as mt\n",
        "\n",
        "for i in range(0,46):\n",
        "  valor_graus = i\n",
        "  valor_radianos = mt.radians(valor_graus) #Convertendo o valor que esta em graus (0 até 45) para ser inserido na função cosseno\n",
        "  cosseno = mt.cos(valor_radianos)\n",
        "  print(f'Cosseno de {i} é {cosseno}')"
      ],
      "metadata": {
        "id": "WPRdEbm32Mqe"
      },
      "execution_count": null,
      "outputs": []
    },
    {
      "cell_type": "markdown",
      "source": [
        "Exemplo 4: Um código que envia 10 números aleatorios na tela"
      ],
      "metadata": {
        "id": "zmFZLdVd0O0n"
      }
    },
    {
      "cell_type": "code",
      "source": [
        "import random as rd\n",
        "\n",
        "for i in range(10):\n",
        "  print(f'Número gerado da vez: {rd.randint(1,50)}')"
      ],
      "metadata": {
        "colab": {
          "base_uri": "https://localhost:8080/"
        },
        "id": "0bYxrSJA0UfO",
        "outputId": "4b50ce7b-b31a-4561-ecc7-545ff7f0834d"
      },
      "execution_count": null,
      "outputs": [
        {
          "output_type": "stream",
          "name": "stdout",
          "text": [
            "Número gerado da vez: 18\n",
            "Número gerado da vez: 32\n",
            "Número gerado da vez: 21\n",
            "Número gerado da vez: 31\n",
            "Número gerado da vez: 5\n",
            "Número gerado da vez: 19\n",
            "Número gerado da vez: 20\n",
            "Número gerado da vez: 29\n",
            "Número gerado da vez: 23\n",
            "Número gerado da vez: 8\n"
          ]
        }
      ]
    },
    {
      "cell_type": "markdown",
      "source": [
        "Exemplo 5: Código que gera 10 números flutuantes"
      ],
      "metadata": {
        "id": "gLlHqRe20uiP"
      }
    },
    {
      "cell_type": "code",
      "source": [
        "import random as rd\n",
        "\n",
        "for i in range(10):\n",
        "  print(f'Número gerado da vez: {rd.random()}')"
      ],
      "metadata": {
        "colab": {
          "base_uri": "https://localhost:8080/"
        },
        "id": "Ka1_OMT_3vxg",
        "outputId": "307a18cc-67c2-445b-a0df-53771cde156c"
      },
      "execution_count": null,
      "outputs": [
        {
          "output_type": "stream",
          "name": "stdout",
          "text": [
            "Número gerado da vez: 0.7593626394962221\n",
            "Número gerado da vez: 0.45044061140334224\n",
            "Número gerado da vez: 0.5562633614316463\n",
            "Número gerado da vez: 0.6111120239710676\n",
            "Número gerado da vez: 0.5624653364012927\n",
            "Número gerado da vez: 0.2483588474441648\n",
            "Número gerado da vez: 0.8514666428217951\n",
            "Número gerado da vez: 0.13137497790879427\n",
            "Número gerado da vez: 0.8328789113147025\n",
            "Número gerado da vez: 0.7736696303638764\n"
          ]
        }
      ]
    },
    {
      "cell_type": "markdown",
      "source": [
        "####**Módulo math**"
      ],
      "metadata": {
        "id": "NuG6KIzv4ZQf"
      }
    },
    {
      "cell_type": "markdown",
      "source": [
        "#####**Definição**\n",
        "Módulo que possui diversas operações matemáticas e funções matemáticas, como:\n",
        "\n",
        "\n",
        "*   Constante PI\n",
        "*   Constante Euler\n",
        "*   Raiz quadrada de um número\n",
        "*   Cálculos trigonometricos\n",
        "  * Cosseno\n",
        "  * Seno\n",
        "  * Tangente\n",
        "  * Hipotenusa\n"
      ],
      "metadata": {
        "id": "vJRi4yvm4pwv"
      }
    },
    {
      "cell_type": "markdown",
      "source": [
        "#####Exercício 1"
      ],
      "metadata": {
        "id": "_yAA90ujz0y3"
      }
    },
    {
      "cell_type": "code",
      "source": [
        "#Escreva sua resposta aqui"
      ],
      "metadata": {
        "id": "KI4q-dtbz4iT"
      },
      "execution_count": null,
      "outputs": []
    },
    {
      "cell_type": "markdown",
      "source": [
        "#####Exercício 2"
      ],
      "metadata": {
        "id": "SAVMGUdN0AM2"
      }
    },
    {
      "cell_type": "code",
      "source": [
        "#Escreva sua resposta aqui"
      ],
      "metadata": {
        "id": "ZVdE3eyG0AM2"
      },
      "execution_count": null,
      "outputs": []
    },
    {
      "cell_type": "markdown",
      "source": [
        "#####Exercício EXTRA"
      ],
      "metadata": {
        "id": "wH2Qy1lG0EEm"
      }
    },
    {
      "cell_type": "code",
      "source": [
        "#Escreva sua resposta aqui"
      ],
      "metadata": {
        "id": "R0CkZYNo0EEm"
      },
      "execution_count": null,
      "outputs": []
    },
    {
      "cell_type": "markdown",
      "source": [
        "####**Módulo random**"
      ],
      "metadata": {
        "id": "tov0jOy05TkO"
      }
    },
    {
      "cell_type": "markdown",
      "source": [
        "#####**Definição**\n",
        "Módulo que possibilita o usuário a geração de números de diversas formas:\n",
        "\n",
        "\n",
        "*   Gerando um número inteiro entre um intervalo\n",
        "*   Gerando um número flutuante entre um intervalo\n",
        "*   Fazendo uma escolha dentre um intervalo de números\n",
        "*   Embaralhamento de elementos\n"
      ],
      "metadata": {
        "id": "fl0E1cJp5Y0F"
      }
    },
    {
      "cell_type": "markdown",
      "source": [
        "#####Exercício 3"
      ],
      "metadata": {
        "id": "zIGSzkhT6M11"
      }
    },
    {
      "cell_type": "code",
      "source": [
        "#Escreva sua resposta aqui"
      ],
      "metadata": {
        "id": "_EEp1UEO6M11"
      },
      "execution_count": null,
      "outputs": []
    },
    {
      "cell_type": "markdown",
      "source": [
        "#####Exercício EXTRA"
      ],
      "metadata": {
        "id": "ksxtD7y36QDy"
      }
    },
    {
      "cell_type": "code",
      "source": [
        "#Escreva sua resposta aqui"
      ],
      "metadata": {
        "id": "3IDkWmj-6QDz"
      },
      "execution_count": null,
      "outputs": []
    },
    {
      "cell_type": "markdown",
      "source": [
        "##Bibliotecas\n",
        "Conjuntos de módulos que podem ser importados no códigos para diversas aplicações"
      ],
      "metadata": {
        "id": "7Us6jvfeywOI"
      }
    },
    {
      "cell_type": "markdown",
      "source": [
        "####**Biblioteca Matplotlib**"
      ],
      "metadata": {
        "id": "rq57qCSE9fa4"
      }
    },
    {
      "cell_type": "markdown",
      "source": [
        "#####**Definição**\n",
        "Biblioteca com um conjunto de módulos que possibitam ao usuário a plotagem de gráficos de diversas formas\n",
        "\n",
        "\n",
        "*   Plotagem de gráficos de linhas\n",
        "*   Plotagem de gráficos de dispersão\n",
        "*   Plotagem de gráficos de pizza\n",
        "*   Plotagem de gráficos de barra"
      ],
      "metadata": {
        "id": "1pkKoAjiL2MY"
      }
    },
    {
      "cell_type": "markdown",
      "source": [
        "Exemplo 1: Plotando um gráfico simples de valores predeterminados com legendas nos eixos x e y e com um título."
      ],
      "metadata": {
        "id": "8Q9z5GI-Ot0A"
      }
    },
    {
      "cell_type": "code",
      "source": [
        "import matplotlib.pyplot as plt #Importando um dos módulos do matplotlib e apelidando ele como plt\n",
        "plt.plot([1, 2, 3, 4], [1, 4, 9, 16])\n",
        "plt.title(\"Exemplo de Gráfico\")\n",
        "plt.xlabel(\"Eixo X\")\n",
        "plt.ylabel(\"Eixo Y\")\n",
        "plt.show()"
      ],
      "metadata": {
        "id": "O-bpVmETABtT",
        "colab": {
          "base_uri": "https://localhost:8080/",
          "height": 472
        },
        "outputId": "bc321063-6337-48ed-9c5b-1a41ee898c8e"
      },
      "execution_count": null,
      "outputs": [
        {
          "output_type": "display_data",
          "data": {
            "text/plain": [
              "<Figure size 640x480 with 1 Axes>"
            ],
            "image/png": "[encoded data removed]"
          },
          "metadata": {}
        }
      ]
    },
    {
      "cell_type": "markdown",
      "source": [
        "Exemplo 2: Plotando um gráfico de valores predeterminados, adicionando marcadores nos pontos e mudando a cor do gráfico"
      ],
      "metadata": {
        "id": "40_gbG45O52A"
      }
    },
    {
      "cell_type": "code",
      "source": [
        "import matplotlib.pyplot as plt\n",
        "\n",
        "x = [1, 2, 3, 4]\n",
        "y = [2, 4, 6, 8]\n",
        "plt.plot(x,y, marker ='o', color = 'r')\n",
        "plt.show()"
      ],
      "metadata": {
        "id": "MQ7e8rqVE_0_"
      },
      "execution_count": null,
      "outputs": []
    },
    {
      "cell_type": "markdown",
      "source": [
        "Desafio: Mude os valores de x e y para testar a diferença da forma do gráfico"
      ],
      "metadata": {
        "id": "FINjePhtPy9v"
      }
    },
    {
      "cell_type": "code",
      "source": [],
      "metadata": {
        "id": "E0vNkC9x-Uta"
      },
      "execution_count": null,
      "outputs": []
    },
    {
      "cell_type": "markdown",
      "source": [
        "Exemplo 3: Plotando Y = 2x sendo x entre 0 a 5"
      ],
      "metadata": {
        "id": "cYH7tczCPO_g"
      }
    },
    {
      "cell_type": "code",
      "source": [
        "import matplotlib.pyplot as plt\n",
        "\n",
        "#Gráfico y = 2x\n",
        "x = [0,1,2,3,4,5] #Intervalo de x [0,5]\n",
        "y = []\n",
        "for i in range(len(x)):\n",
        "  y.append(2*x[i]) #Define Y para poder ser utilizado na plotagem\n",
        "\n",
        "plt.plot(x,y, marker ='o', color = 'g')"
      ],
      "metadata": {
        "colab": {
          "base_uri": "https://localhost:8080/",
          "height": 447
        },
        "id": "xN_MZPU0Hfrn",
        "outputId": "418fb92d-e9fe-49c7-ba63-f1ca0e351fc7"
      },
      "execution_count": null,
      "outputs": [
        {
          "output_type": "execute_result",
          "data": {
            "text/plain": [
              "[<matplotlib.lines.Line2D at 0x7e619ac933a0>]"
            ]
          },
          "metadata": {},
          "execution_count": 57
        },
        {
          "output_type": "display_data",
          "data": {
            "text/plain": [
              "<Figure size 640x480 with 1 Axes>"
            ],
            "image/png": "[encoded data removed]"
          },
          "metadata": {}
        }
      ]
    },
    {
      "cell_type": "markdown",
      "source": [
        "Desafio: Faça X variar nesse intervalo de 5 a 20."
      ],
      "metadata": {
        "id": "s8A5YwzMPpKv"
      }
    },
    {
      "cell_type": "code",
      "source": [],
      "metadata": {
        "id": "P3m66DCv-T25"
      },
      "execution_count": null,
      "outputs": []
    },
    {
      "cell_type": "markdown",
      "source": [
        "Exemplo 4: Plotando Y = ax² + bx + c, sendo x entre 0 a 10, e a, b, c predeterminados"
      ],
      "metadata": {
        "id": "47xDi3OfPYZf"
      }
    },
    {
      "cell_type": "code",
      "source": [
        "import matplotlib.pyplot as plt\n",
        "import math as mt\n",
        "\n",
        "a = 1\n",
        "b = 2\n",
        "c = 1\n",
        "x = []\n",
        "y = []\n",
        "\n",
        "for i in range(11):\n",
        "  x.append(i)\n",
        "  calculo = a*(mt.pow(x[i],2)) + b*x[i] + c\n",
        "  y.append(calculo)\n",
        "\n",
        "plt.plot(x,y,marker = 'D' , color = 'blue')\n",
        "plt.show()"
      ],
      "metadata": {
        "id": "Mcw3WwRLIY_o"
      },
      "execution_count": null,
      "outputs": []
    },
    {
      "cell_type": "markdown",
      "source": [
        "Desafio: Reescreva esse código e faça com que a, b e c sejam valores escolhidos pelo usuário."
      ],
      "metadata": {
        "id": "y0m1iuF7PgTX"
      }
    },
    {
      "cell_type": "code",
      "source": [],
      "metadata": {
        "id": "g-Zis2KQ-Tey"
      },
      "execution_count": null,
      "outputs": []
    },
    {
      "cell_type": "markdown",
      "source": [
        "Exemplo 5: Plotando dois gráficos"
      ],
      "metadata": {
        "id": "ds5xskSrQOCI"
      }
    },
    {
      "cell_type": "code",
      "source": [
        "import matplotlib.pyplot as plt\n",
        "\n",
        "x1 = [1, 2, 3, 4]\n",
        "y1 = [2, 4, 6, 8]\n",
        "\n",
        "x2 = [1, 2, 3, 4]\n",
        "y2 = [1, 3, 5, 7]\n",
        "\n",
        "plt.plot(x1, y1, marker='o', color='r')\n",
        "plt.plot(x2, y2, marker='x', color='b')\n",
        "\n",
        "plt.xlabel('Eixo X')\n",
        "plt.ylabel('Eixo Y')\n",
        "plt.title('Dois Gráficos em um Único Conjunto de Eixos')\n",
        "plt.show()\n"
      ],
      "metadata": {
        "colab": {
          "base_uri": "https://localhost:8080/",
          "height": 475
        },
        "id": "YidYY9TeQWVf",
        "outputId": "7ea9603d-068e-4923-d0c7-bc3675bee78b"
      },
      "execution_count": null,
      "outputs": [
        {
          "output_type": "display_data",
          "data": {
            "text/plain": [
              "<Figure size 640x480 with 1 Axes>"
            ],
            "image/png": "[encoded data removed]"
          },
          "metadata": {}
        }
      ]
    },
    {
      "cell_type": "markdown",
      "source": [
        "#####Exercício 4"
      ],
      "metadata": {
        "id": "RJ7kBuk_6wZz"
      }
    },
    {
      "cell_type": "code",
      "source": [
        "#Escreva sua resposta aqui"
      ],
      "metadata": {
        "id": "xm9OoJx-6y-h"
      },
      "execution_count": null,
      "outputs": []
    },
    {
      "cell_type": "markdown",
      "source": [
        "####**Biblioteca Numpy (Material Extra)**"
      ],
      "metadata": {
        "id": "tJmdJUlt9iVC"
      }
    },
    {
      "cell_type": "markdown",
      "source": [
        "#####**Definição**\n",
        "Biblioteca com um conjunto de manipulações matemáticas envolvendo listas e utilização prática de cálculos númericos."
      ],
      "metadata": {
        "id": "Qoke7iAO7cYx"
      }
    },
    {
      "cell_type": "markdown",
      "source": [
        "Exemplo 1: Criando uma lista ou array de elementos vazios do tipo float e tipo inteiro."
      ],
      "metadata": {
        "id": "-cjo_u-59F7Z"
      }
    },
    {
      "cell_type": "code",
      "source": [
        "import numpy as np\n",
        "\n",
        "array_vazia = np.zeros(6) #Tipo float\n",
        "print(array_vazia)"
      ],
      "metadata": {
        "colab": {
          "base_uri": "https://localhost:8080/"
        },
        "id": "dF1o9-o29Fkh",
        "outputId": "67f2842c-d4de-4431-cda7-36f6a0131c8c"
      },
      "execution_count": null,
      "outputs": [
        {
          "output_type": "stream",
          "name": "stdout",
          "text": [
            "[0. 0. 0. 0. 0. 0.]\n"
          ]
        }
      ]
    },
    {
      "cell_type": "code",
      "source": [
        "import numpy as np\n",
        "\n",
        "array_vazia = np.zeros(6, dtype=int) #Tipo int\n",
        "print(array_vazia)"
      ],
      "metadata": {
        "colab": {
          "base_uri": "https://localhost:8080/"
        },
        "id": "ciJPADFH9dzb",
        "outputId": "f4644371-0315-4d90-ac4c-dfa6850940e1"
      },
      "execution_count": null,
      "outputs": [
        {
          "output_type": "stream",
          "name": "stdout",
          "text": [
            "[0 0 0 0 0 0]\n"
          ]
        }
      ]
    },
    {
      "cell_type": "markdown",
      "source": [
        "Desafio: Crie uma array vazia com base em um valor dado pelo usuário"
      ],
      "metadata": {
        "id": "FqeQlTLM-C7K"
      }
    },
    {
      "cell_type": "code",
      "source": [],
      "metadata": {
        "id": "KHwiT4Ku-Nok"
      },
      "execution_count": null,
      "outputs": []
    },
    {
      "cell_type": "markdown",
      "source": [
        "Exemplo 2: Criando uma lista ou array com base em um range"
      ],
      "metadata": {
        "id": "PXR0lYJm9kjp"
      }
    },
    {
      "cell_type": "code",
      "source": [
        "import numpy as np\n",
        "\n",
        "a = np.arange(6)\n",
        "print(a)"
      ],
      "metadata": {
        "colab": {
          "base_uri": "https://localhost:8080/"
        },
        "id": "Njue7ViJ69H5",
        "outputId": "f7edaf89-3365-4a78-8303-9f0ffae50d7b"
      },
      "execution_count": null,
      "outputs": [
        {
          "output_type": "stream",
          "name": "stdout",
          "text": [
            "[0 1 2 3 4 5]\n"
          ]
        }
      ]
    },
    {
      "cell_type": "markdown",
      "source": [
        "Desafio: Crie duas listas e faça uma soma entre elas e envie para a tela o resultado"
      ],
      "metadata": {
        "id": "yFTkAF80-KFk"
      }
    },
    {
      "cell_type": "markdown",
      "source": [
        "Exemplo 3: Criando um array básico"
      ],
      "metadata": {
        "id": "hW76aOIX_A4R"
      }
    },
    {
      "cell_type": "code",
      "source": [
        "import numpy as np\n",
        "\n",
        "array_basico =np.array([5,2,1,3,5]) #Composto por valores aleatórios\n",
        "print(array_basico)"
      ],
      "metadata": {
        "colab": {
          "base_uri": "https://localhost:8080/"
        },
        "id": "JOa8U1-N_PVJ",
        "outputId": "36a4e3f2-89d4-4893-bcf2-dc9d3e8b2aba"
      },
      "execution_count": null,
      "outputs": [
        {
          "output_type": "stream",
          "name": "stdout",
          "text": [
            "[5 2 1 3 5]\n"
          ]
        }
      ]
    },
    {
      "cell_type": "markdown",
      "source": [
        "Desafio: Crie um array básico com valores de uma lista feita pelo usuário, a lista deve ter pelo menos 5 elementos"
      ],
      "metadata": {
        "id": "M6vW_yMV_Weg"
      }
    },
    {
      "cell_type": "markdown",
      "source": [
        "Exemplo 4: Soma de listas sendo diferente de soma de arrays"
      ],
      "metadata": {
        "id": "TrklCaFR_41C"
      }
    },
    {
      "cell_type": "code",
      "source": [
        "#criando duas arrays em numpy\n",
        "import numpy as np\n",
        "\n",
        "array_basico1 = np.array([1,2,3])\n",
        "array_basico2 = np.array([3,4,5])\n",
        "array_basico3 = array_basico1 + array_basico2\n",
        "print(f'a soma do array {array_basico1} com {array_basico2} feito em numpy {array_basico3}')\n",
        "\n",
        "lista = [1,2,3]\n",
        "lista2 = [2,3,4]\n",
        "lista3 = lista+lista2\n",
        "print(f'a soma da array {lista} com {lista2} apenas realizando uma soma padrão em python {lista3}')"
      ],
      "metadata": {
        "colab": {
          "base_uri": "https://localhost:8080/"
        },
        "id": "XZP4Edx8_WBw",
        "outputId": "5714924f-316f-4a25-c25f-2071371edf33"
      },
      "execution_count": null,
      "outputs": [
        {
          "output_type": "stream",
          "name": "stdout",
          "text": [
            "a soma do array [1 2 3] com [3 4 5] feito em numpy [4 6 8]\n",
            "a soma da array [1, 2, 3] com [2, 3, 4] apenas realizando uma soma padrão em python [1, 2, 3, 2, 3, 4]\n"
          ]
        }
      ]
    },
    {
      "cell_type": "markdown",
      "source": [
        "Exemplo 5: Faça uma array com elementos aleatórios e ordene os elementos"
      ],
      "metadata": {
        "id": "T0iBLXa77VZ4"
      }
    },
    {
      "cell_type": "code",
      "source": [
        "import numpy as np\n",
        "\n",
        "array_aleatorio = np.array([1,3,5,2,6,7])\n",
        "print(f'Array original = {array_aleatorio}')\n",
        "\n",
        "array_aleatorio = np.sort(array_aleatorio)\n",
        "print(f'Array ordenado = {array_aleatorio}')\n"
      ],
      "metadata": {
        "colab": {
          "base_uri": "https://localhost:8080/"
        },
        "id": "IeCsSNzoA9vZ",
        "outputId": "ff13ad91-8b35-4f82-88f4-6c473aff8831"
      },
      "execution_count": null,
      "outputs": [
        {
          "output_type": "stream",
          "name": "stdout",
          "text": [
            "Array original = [1 3 5 2 6 7]\n",
            "Array ordenado = [1 2 3 5 6 7]\n"
          ]
        }
      ]
    },
    {
      "cell_type": "code",
      "source": [
        "import numpy as np\n",
        "\n",
        "array_gerado = np.array([1,2,3,4])"
      ],
      "metadata": {
        "id": "tP_fqRXBDJgy"
      },
      "execution_count": null,
      "outputs": []
    },
    {
      "cell_type": "markdown",
      "source": [
        "#####Exercício 5:  Crie uma array com elementos vazios e crie outra array com elementos aleatórios e mostre as duas na tela."
      ],
      "metadata": {
        "id": "xgoRR-HJB4N5"
      }
    },
    {
      "cell_type": "code",
      "source": [
        "#Escreva sua resposta aqui"
      ],
      "metadata": {
        "id": "ryCkh1d6B63o"
      },
      "execution_count": null,
      "outputs": []
    },
    {
      "cell_type": "markdown",
      "source": [
        "#####Exercício 6: Crie 3 arrays e faça a soma das duas primeiras e envie para  a tela, faça a subtração da segunda com a terceira e envie na tela, e faça multiplicação da primeira com segunda e envie na tela.\n",
        "\n",
        "OBS: pode utilizar ou o módulo numpy.arange() ou numpy.array para gerar os arrays\n"
      ],
      "metadata": {
        "id": "wGmrGSkpB63U"
      }
    },
    {
      "cell_type": "code",
      "source": [
        "#Escreva sua resposta aqui"
      ],
      "metadata": {
        "id": "blhU-rtiB4OC"
      },
      "execution_count": null,
      "outputs": []
    },
    {
      "cell_type": "markdown",
      "source": [
        "#Lista de Exercicios Nº 5"
      ],
      "metadata": {
        "id": "qAa_TV1PbmbO"
      }
    },
    {
      "cell_type": "markdown",
      "source": [
        "1) Use a função math.sqrt(X) para calcular a raiz quadrada de um número X dado pelo usuário.\n",
        "\n"
      ],
      "metadata": {
        "id": "XiPlL91uTnVT"
      }
    },
    {
      "cell_type": "code",
      "source": [
        "#Escreva sua resposta aqui"
      ],
      "metadata": {
        "id": "OF_VMU_9UW6z"
      },
      "execution_count": null,
      "outputs": []
    },
    {
      "cell_type": "markdown",
      "source": [
        "2)  Use a função math.factorial(X) para calcular o fatorial de um número X dado pelo usuário."
      ],
      "metadata": {
        "id": "luZd0uEjT3AX"
      }
    },
    {
      "cell_type": "code",
      "source": [
        "#Escreva sua resposta aqui"
      ],
      "metadata": {
        "id": "2qtu-7JuUAeu"
      },
      "execution_count": null,
      "outputs": []
    },
    {
      "cell_type": "markdown",
      "source": [
        "3) Crie um programa que gere e exiba uma senha composta por número aleatória de caracteres."
      ],
      "metadata": {
        "id": "FuDT3mA5UD97"
      }
    },
    {
      "cell_type": "code",
      "source": [
        "# Escreva a sua resposta aqui"
      ],
      "metadata": {
        "id": "bieWszJOmTrz"
      },
      "execution_count": null,
      "outputs": []
    },
    {
      "cell_type": "markdown",
      "source": [
        "4) Crie um programa que simule um jogo de cara ou coroa. O programa deve gerar aleatoriamente \"cara\" ou \"coroa\" e perguntar ao usuário qual adivinhação ele faz. Em seguida, exiba se a adivinhação estava correta."
      ],
      "metadata": {
        "id": "HqakXtOQUamL"
      }
    },
    {
      "cell_type": "code",
      "source": [
        "# Escreva a sua resposta aqui"
      ],
      "metadata": {
        "id": "WVmKxoT3Unla"
      },
      "execution_count": null,
      "outputs": []
    },
    {
      "cell_type": "markdown",
      "source": [
        "5) Plote um gráfico com x variando de 25 a 50 e y sendo a raiz quadrada de x."
      ],
      "metadata": {
        "id": "Oux7XibHD4K5"
      }
    },
    {
      "cell_type": "code",
      "source": [
        "# Escreva a sua resposta aqui"
      ],
      "metadata": {
        "id": "C6lj21TjD3sy"
      },
      "execution_count": null,
      "outputs": []
    }
  ]
}