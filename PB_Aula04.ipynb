{
  "nbformat": 4,
  "nbformat_minor": 0,
  "metadata": {
    "colab": {
      "provenance": []
    },
    "kernelspec": {
      "name": "python3",
      "display_name": "Python 3"
    },
    "language_info": {
      "name": "python"
    }
  },
  "cells": [
    {
      "cell_type": "markdown",
      "source": [
        "###Python Básico - Aula 04\n",
        "\n",
        "Conteúdo:\n",
        "\n",
        "\n",
        "*   Função\n",
        "\n",
        "\n",
        "\n",
        "\n",
        "\n"
      ],
      "metadata": {
        "id": "5T9-ykBZ5M5y"
      }
    },
    {
      "cell_type": "markdown",
      "source": [
        "##Função\n",
        "Estrutura e chamada de uma função."
      ],
      "metadata": {
        "id": "05V88uDH7PNA"
      }
    },
    {
      "cell_type": "code",
      "source": [
        "# Exemplo 1\n",
        "# Função que realiza a soma de dois números\n",
        "\n",
        "def soma(a,b):\n",
        "  return a+b\n",
        "\n",
        "num1 = int(input(\"Digite um número: \"))\n",
        "num2 = int(input(\"Digite um número: \"))\n",
        "\n",
        "s = soma(num1,num2)\n",
        "\n",
        "print(f\"A soma dos dois números é igual a {s}\")"
      ],
      "metadata": {
        "id": "bAPU6Osf6wki",
        "colab": {
          "base_uri": "https://localhost:8080/"
        },
        "outputId": "c8956b81-6886-4319-b983-97ccaaa97bd8"
      },
      "execution_count": null,
      "outputs": [
        {
          "output_type": "stream",
          "name": "stdout",
          "text": [
            "Digite um número: 10\n",
            "Digite um número: 5\n",
            "A soma dos dois números é igual a 15\n"
          ]
        }
      ]
    },
    {
      "cell_type": "code",
      "source": [
        "# Exemplo 2\n",
        "# Função sem retorno e sem parâmetros\n",
        "\n",
        "def cabecalho():\n",
        "    print(\"UNIVERSIDADE FEDERAL DA PARAÍBA\")\n",
        "    print(\"PET ELÉTRICA - UFPB\")\n",
        "    print(\"CURSO DE PYTHON BÁSICO\")\n",
        "    print(f\"{'='*50}\")\n",
        "\n",
        "\n",
        "cabecalho()"
      ],
      "metadata": {
        "id": "1gBi2xuzboXr",
        "colab": {
          "base_uri": "https://localhost:8080/"
        },
        "outputId": "6856c63b-f36a-41f4-f2c3-3a05f7e94be5"
      },
      "execution_count": null,
      "outputs": [
        {
          "output_type": "stream",
          "name": "stdout",
          "text": [
            "UNIVERSIDADE FEDERAL DA PARAÍBA\n",
            "PET ELÉTRICA - UFPB\n",
            "CURSO DE PYTHON BÁSICO\n",
            "==================================================\n"
          ]
        }
      ]
    },
    {
      "cell_type": "markdown",
      "source": [
        "As variáveis que estão dentro de uma função são locais."
      ],
      "metadata": {
        "id": "chdvNZRQ0XS3"
      }
    },
    {
      "cell_type": "code",
      "source": [
        "# Exemplo 3\n",
        "# Tentando acessar uma variável local\n",
        "\n",
        "def soma(a,b):\n",
        "  return a+b\n",
        "\n",
        "print(a)"
      ],
      "metadata": {
        "id": "bO9y583I0g7Z",
        "colab": {
          "base_uri": "https://localhost:8080/",
          "height": 176
        },
        "outputId": "edf4355a-05d5-4f65-bb89-15b52dabaaad"
      },
      "execution_count": null,
      "outputs": [
        {
          "output_type": "error",
          "ename": "NameError",
          "evalue": "name 'a' is not defined",
          "traceback": [
            "\u001b[0;31m---------------------------------------------------------------------------\u001b[0m",
            "\u001b[0;31mNameError\u001b[0m                                 Traceback (most recent call last)",
            "\u001b[0;32m<ipython-input-5-ec72a6a43a77>\u001b[0m in \u001b[0;36m<cell line: 7>\u001b[0;34m()\u001b[0m\n\u001b[1;32m      5\u001b[0m   \u001b[0;32mreturn\u001b[0m \u001b[0ma\u001b[0m\u001b[0;34m+\u001b[0m\u001b[0mb\u001b[0m\u001b[0;34m\u001b[0m\u001b[0;34m\u001b[0m\u001b[0m\n\u001b[1;32m      6\u001b[0m \u001b[0;34m\u001b[0m\u001b[0m\n\u001b[0;32m----> 7\u001b[0;31m \u001b[0mprint\u001b[0m\u001b[0;34m(\u001b[0m\u001b[0ma\u001b[0m\u001b[0;34m)\u001b[0m\u001b[0;34m\u001b[0m\u001b[0;34m\u001b[0m\u001b[0m\n\u001b[0m",
            "\u001b[0;31mNameError\u001b[0m: name 'a' is not defined"
          ]
        }
      ]
    },
    {
      "cell_type": "markdown",
      "source": [
        "As variáveis globais, como o próprio nome sugere, podem ser acessadas em qualquer lugar do programa."
      ],
      "metadata": {
        "id": "WIPfjC2PkOlG"
      }
    },
    {
      "cell_type": "code",
      "source": [
        "# Exemplo 3\n",
        "# Tentando acessar uma variável local\n",
        "\n",
        "num = 50 # Variável global\n",
        "\n",
        "def soma(a):\n",
        "  return a+num\n",
        "\n",
        "a = 10\n",
        "s = soma(a)\n",
        "\n",
        "print(s)"
      ],
      "metadata": {
        "colab": {
          "base_uri": "https://localhost:8080/"
        },
        "id": "1lz111UQkVPy",
        "outputId": "92d3ef25-d809-44f5-8f7a-bebdc9a369ca"
      },
      "execution_count": null,
      "outputs": [
        {
          "output_type": "stream",
          "name": "stdout",
          "text": [
            "60\n"
          ]
        }
      ]
    },
    {
      "cell_type": "markdown",
      "source": [
        "####Exercício 1 : Crie uma função que recebe um número do usuário e o retorne a tabuada desse número.\n"
      ],
      "metadata": {
        "id": "BRxR39ygnE8-"
      }
    },
    {
      "cell_type": "code",
      "source": [
        "# Escreva sua resposta aqui"
      ],
      "metadata": {
        "id": "TADEAL-nnKKL"
      },
      "execution_count": null,
      "outputs": []
    },
    {
      "cell_type": "markdown",
      "source": [
        "####Exercício 2 : Crie uma função que receba dois números e retorne o produto deles(a multiplicação dos dois elementos), os números que são parametros da função devem ser dados pelo usuário.\n"
      ],
      "metadata": {
        "id": "ikU5Uo_HnOnc"
      }
    },
    {
      "cell_type": "code",
      "source": [
        "# Escreva sua resposta aqui"
      ],
      "metadata": {
        "id": "WoIcml-lnRAF"
      },
      "execution_count": null,
      "outputs": []
    },
    {
      "cell_type": "markdown",
      "source": [
        "####Exercício 3 : Crie uma função que realize o cálculo da área de uma circunferência para um diâmetro passado pelo usuário.\n"
      ],
      "metadata": {
        "id": "A6W86mezqAkr"
      }
    },
    {
      "cell_type": "code",
      "source": [
        "# Escreva sua resposta aqui"
      ],
      "metadata": {
        "id": "L3un4uaNqCEE"
      },
      "execution_count": null,
      "outputs": []
    },
    {
      "cell_type": "markdown",
      "source": [
        "####Exercicio 4 : Crie uma função que faça o cálculo da hipotenusa de um triangulo retângulo, os valores dos catetos devem ser dados pelo usuário.\n"
      ],
      "metadata": {
        "id": "B7tjJe0UbIM8"
      }
    },
    {
      "cell_type": "code",
      "source": [
        "# Escreva sua resposta aqui"
      ],
      "metadata": {
        "id": "_tFPRLCTbOyE"
      },
      "execution_count": null,
      "outputs": []
    },
    {
      "cell_type": "markdown",
      "source": [
        "####Exercicio 5 : Crie uma função que receba uma lista de 5 elementos como parâmetro  e retorne a soma de todos os elementos dessa lista."
      ],
      "metadata": {
        "id": "g76FZ1imbQHA"
      }
    },
    {
      "cell_type": "code",
      "source": [
        "# Escreva sua resposta aqui"
      ],
      "metadata": {
        "id": "TkNYSv4UbQHB"
      },
      "execution_count": null,
      "outputs": []
    },
    {
      "cell_type": "markdown",
      "source": [
        "####Exercicio 6 : Crie uma função  que receba uma lista e retorne a quantidade de elementos pares presentes nessa lista."
      ],
      "metadata": {
        "id": "q7xMxTVZgEs9"
      }
    },
    {
      "cell_type": "code",
      "source": [
        "# Escreva sua resposta aqui"
      ],
      "metadata": {
        "id": "BEQ_iQq3gBd7"
      },
      "execution_count": null,
      "outputs": []
    },
    {
      "cell_type": "markdown",
      "source": [
        "#Lista de Exercicios Nº 4"
      ],
      "metadata": {
        "id": "qAa_TV1PbmbO"
      }
    },
    {
      "cell_type": "markdown",
      "source": [
        "1) Crie uma função chamada say_hello que exiba a mensagem \"Olá, mundo!\".\n"
      ],
      "metadata": {
        "id": "XiPlL91uTnVT"
      }
    },
    {
      "cell_type": "code",
      "source": [
        "#Escreva sua resposta aqui"
      ],
      "metadata": {
        "id": "OF_VMU_9UW6z"
      },
      "execution_count": null,
      "outputs": []
    },
    {
      "cell_type": "markdown",
      "source": [
        "2) Crie uma função que calcula a área de um retângulo. A função deve receber a largura e a altura como argumentos e retornar a área, a largura e altura devem ser enviadas pelo usuário."
      ],
      "metadata": {
        "id": "luZd0uEjT3AX"
      }
    },
    {
      "cell_type": "code",
      "source": [
        "#Escreva sua resposta aqui"
      ],
      "metadata": {
        "id": "2qtu-7JuUAeu"
      },
      "execution_count": null,
      "outputs": []
    },
    {
      "cell_type": "markdown",
      "source": [
        "3) Crie uma função que recebe uma lista de números como argumento e retorna a média deles."
      ],
      "metadata": {
        "id": "FuDT3mA5UD97"
      }
    },
    {
      "cell_type": "code",
      "source": [
        "# Escreva a sua resposta aqui"
      ],
      "metadata": {
        "id": "bieWszJOmTrz"
      },
      "execution_count": null,
      "outputs": []
    },
    {
      "cell_type": "markdown",
      "source": [
        "4) Crie uma função que receba o número e essa função verifique se esse número é um número primo"
      ],
      "metadata": {
        "id": "HqakXtOQUamL"
      }
    },
    {
      "cell_type": "code",
      "source": [
        "# Escreva a sua resposta aqui"
      ],
      "metadata": {
        "id": "WVmKxoT3Unla"
      },
      "execution_count": null,
      "outputs": []
    },
    {
      "cell_type": "markdown",
      "source": [
        "####Exercicio 5"
      ],
      "metadata": {
        "id": "68x6kda1gBd7"
      }
    },
    {
      "cell_type": "markdown",
      "source": [
        "# ***DESAFIO EXTRA: ***\n"
      ],
      "metadata": {
        "id": "HjhzAyszqLKH"
      }
    },
    {
      "cell_type": "markdown",
      "source": [
        "Crie uma função que calcula o fatorial de um número. A função deve receber o número como argumento e retornar o fatorial."
      ],
      "metadata": {
        "id": "bWd5zxyAqSM8"
      }
    },
    {
      "cell_type": "code",
      "source": [
        "#Digite o código"
      ],
      "metadata": {
        "id": "Eo-EHd49qbJE"
      },
      "execution_count": null,
      "outputs": []
    }
  ]
}