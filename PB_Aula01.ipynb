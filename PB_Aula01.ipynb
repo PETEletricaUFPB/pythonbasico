{
  "nbformat": 4,
  "nbformat_minor": 0,
  "metadata": {
    "colab": {
      "provenance": []
    },
    "kernelspec": {
      "name": "python3",
      "display_name": "Python 3"
    },
    "language_info": {
      "name": "python"
    }
  },
  "cells": [
    {
      "cell_type": "markdown",
      "source": [
        "###Python Básico - Aula 01\n",
        "\n",
        "Conteúdo:\n",
        "\n",
        "\n",
        "*   Variáveis e tipos de dados em Python\n",
        "*   Input e Output\n",
        "*   Operadores Aritméticos\n",
        "\n"
      ],
      "metadata": {
        "id": "5T9-ykBZ5M5y"
      }
    },
    {
      "cell_type": "markdown",
      "source": [
        "####Input e Output"
      ],
      "metadata": {
        "id": "05V88uDH7PNA"
      }
    },
    {
      "cell_type": "code",
      "source": [
        "# Este é um comentário. Esta linha será ignorada pelo interpretador\n",
        "#Dentro dos \"\" é uma string.\n",
        "print(\"Olá mundo!\")\n",
        "\n",
        "print('olá mundo')"
      ],
      "metadata": {
        "id": "FiIB_6T2kVBk",
        "colab": {
          "base_uri": "https://localhost:8080/"
        },
        "outputId": "7fd37683-e20e-4289-a017-92edffda17b1"
      },
      "execution_count": null,
      "outputs": [
        {
          "output_type": "stream",
          "name": "stdout",
          "text": [
            "Olá mundo!\n",
            "olá mundo\n"
          ]
        }
      ]
    },
    {
      "cell_type": "code",
      "source": [
        "# Declaração de uma variável\n",
        "\n",
        "var_1 = 5\n",
        "var_2 = 7\n",
        "\n",
        "# Imprimindo as duas variáveis juntas\n",
        "print(var_1, var_2)\n",
        "\n",
        "# Imprimindo as variáveis separadamente\n",
        "print(var_1)\n",
        "print(var_2)\n",
        "print(\"Linha 1 \\nLinha 2\") #Opção simplificada de imprimir separado"
      ],
      "metadata": {
        "id": "U3C5N8YmkayM",
        "colab": {
          "base_uri": "https://localhost:8080/"
        },
        "outputId": "494fd719-0e5b-49f6-b8e5-6f6c10ac5ba8"
      },
      "execution_count": null,
      "outputs": [
        {
          "output_type": "stream",
          "name": "stdout",
          "text": [
            "5 7\n",
            "5\n",
            "7\n",
            "Linha 1 \n",
            "Linha 2\n"
          ]
        }
      ]
    },
    {
      "cell_type": "code",
      "source": [
        "# Tentando usar caracter especial\n",
        "a = 'ola'\n",
        "print(a)"
      ],
      "metadata": {
        "id": "oKt67Cjqke5q",
        "colab": {
          "base_uri": "https://localhost:8080/"
        },
        "outputId": "fae8c62f-33e7-4d7e-afca-5ed66dd1b1e4"
      },
      "execution_count": null,
      "outputs": [
        {
          "output_type": "stream",
          "name": "stdout",
          "text": [
            "ola\n"
          ]
        }
      ]
    },
    {
      "cell_type": "code",
      "source": [
        "# Solicitando o nome de usuário\n",
        "\n",
        "nome = input('Qual o seu nome? ') # A função input lê o que for digitado e guarda na variável nome\n",
        "\n",
        "print(nome)\n"
      ],
      "metadata": {
        "id": "25tifXYvkiwQ",
        "colab": {
          "base_uri": "https://localhost:8080/"
        },
        "outputId": "117f72a6-77c8-4b5e-c71e-6a4e2bbcd8cc"
      },
      "execution_count": null,
      "outputs": [
        {
          "output_type": "stream",
          "name": "stdout",
          "text": [
            "Qual o seu nome? Rayane\n",
            "Rayane\n"
          ]
        }
      ]
    },
    {
      "cell_type": "code",
      "source": [
        "# Print de texto + variável\n",
        "idade = input(\"Qual a sua idade? \")\n",
        "b = \"anos\"\n",
        "\n",
        "print(f\"Você tem {idade} {b}\")"
      ],
      "metadata": {
        "id": "0b1crsn_t5hw",
        "colab": {
          "base_uri": "https://localhost:8080/"
        },
        "outputId": "e992fd9a-9c19-4d0a-a72e-121723dcc0d6"
      },
      "execution_count": null,
      "outputs": [
        {
          "output_type": "stream",
          "name": "stdout",
          "text": [
            "Qual a sua idade? 19\n",
            "Você tem 19 anos\n"
          ]
        }
      ]
    },
    {
      "cell_type": "markdown",
      "source": [
        "####Operadores Aritméticos\n",
        "\n",
        "São responsáveis por realizar operações com os valores de variáveis."
      ],
      "metadata": {
        "id": "OrJvTr0ydfCj"
      }
    },
    {
      "cell_type": "code",
      "source": [
        "# Soma e subtração\n",
        "\n",
        "a = 5\n",
        "b = 10\n",
        "c = a + b\n",
        "d = a - b\n",
        "print(a)\n",
        "print(b)\n",
        "print(c)\n",
        "print(d)"
      ],
      "metadata": {
        "id": "zTI3yAUXkqVE",
        "colab": {
          "base_uri": "https://localhost:8080/"
        },
        "outputId": "25fbd8c6-ff11-4a0e-87b8-2386fc6f70a9"
      },
      "execution_count": null,
      "outputs": [
        {
          "output_type": "stream",
          "name": "stdout",
          "text": [
            "5\n",
            "10\n",
            "15\n",
            "-5\n"
          ]
        }
      ]
    },
    {
      "cell_type": "code",
      "source": [
        "# Concatenação de String\n",
        "\n",
        "palavra_1 = \"Olá\"\n",
        "palavra_2 = \"Mundo\"\n",
        "palavra_3 = palavra_1 + palavra_2\n",
        "\n",
        "print(palavra_3)\n",
        "print(palavra_1+palavra_2)\n",
        "print(f'{palavra_1} {palavra_2}')"
      ],
      "metadata": {
        "id": "LKzt9YLmksg_",
        "colab": {
          "base_uri": "https://localhost:8080/"
        },
        "outputId": "2aee1f6a-21d9-4284-f603-91039e6fb41e"
      },
      "execution_count": null,
      "outputs": [
        {
          "output_type": "stream",
          "name": "stdout",
          "text": [
            "OláMundo\n",
            "OláMundo\n",
            "Olá Mundo\n"
          ]
        }
      ]
    },
    {
      "cell_type": "code",
      "source": [
        "idade = int(input(\"Digite sua idade:\"))\n",
        "print(f\"Seu ano de nascimento é {2023-idade} \")"
      ],
      "metadata": {
        "id": "-zZUJu7yWOa8",
        "colab": {
          "base_uri": "https://localhost:8080/"
        },
        "outputId": "10ea9792-daae-4f24-98c7-000fa87c0dde"
      },
      "execution_count": null,
      "outputs": [
        {
          "output_type": "stream",
          "name": "stdout",
          "text": [
            "Digite sua idade:19\n",
            "Seu ano de nascimento é 2004 \n"
          ]
        }
      ]
    },
    {
      "cell_type": "code",
      "source": [
        "# Multiplicação e divisão\n",
        "\n",
        "a = 25\n",
        "b = 2\n",
        "c = a * b\n",
        "d = a / b\n",
        "e = a // b\n",
        "\n",
        "print(a)\n",
        "print(b)\n",
        "print(c)\n",
        "print(d)\n",
        "print(e)\n",
        "print(a%b)"
      ],
      "metadata": {
        "id": "KTfnqHQ1kxFW",
        "colab": {
          "base_uri": "https://localhost:8080/"
        },
        "outputId": "cf505206-4c2f-4590-dcb1-6cb3e1d99cdc"
      },
      "execution_count": null,
      "outputs": [
        {
          "output_type": "stream",
          "name": "stdout",
          "text": [
            "25\n",
            "2\n",
            "50\n",
            "12.5\n",
            "12\n",
            "1\n"
          ]
        }
      ]
    },
    {
      "cell_type": "code",
      "source": [
        "# Repetição de String\n",
        "\n",
        "a = \"Ola\"\n",
        "\n",
        "print(a*10)\n",
        "\n",
        "print(\"PET\"*20)"
      ],
      "metadata": {
        "id": "OGAxgkWclIma",
        "colab": {
          "base_uri": "https://localhost:8080/"
        },
        "outputId": "583ff668-fd2b-4928-eea8-904e4306871a"
      },
      "execution_count": null,
      "outputs": [
        {
          "output_type": "stream",
          "name": "stdout",
          "text": [
            "OlaOlaOlaOlaOlaOlaOlaOlaOlaOla\n",
            "PETPETPETPETPETPETPETPETPETPETPETPETPETPETPETPETPETPETPETPET\n"
          ]
        }
      ]
    },
    {
      "cell_type": "code",
      "source": [
        "# Potência e Resto\n",
        "\n",
        "a = 2\n",
        "n = 5\n",
        "p = 2**n\n",
        "\n",
        "print(p)\n",
        "print(p%2)\n",
        "print(p%3)\n",
        "\n",
        "# Comprovando que a divisão p/3 não é inteira\n",
        "print(p/3)"
      ],
      "metadata": {
        "id": "GDxZV5dllNqL",
        "colab": {
          "base_uri": "https://localhost:8080/"
        },
        "outputId": "9241fbc0-03be-412d-c090-158f2623a464"
      },
      "execution_count": null,
      "outputs": [
        {
          "output_type": "stream",
          "name": "stdout",
          "text": [
            "32\n",
            "0\n",
            "2\n",
            "3\n",
            "\n",
            "10.666666666666666\n"
          ]
        }
      ]
    },
    {
      "cell_type": "code",
      "source": [
        "# Raiz de um número\n",
        "\n",
        "a = 25\n",
        "\n",
        "print(a**(1/2))"
      ],
      "metadata": {
        "id": "yEyLO9_CJcaE",
        "colab": {
          "base_uri": "https://localhost:8080/"
        },
        "outputId": "a0b0c9a7-31bf-483a-fd60-4bd8bffd0f05"
      },
      "execution_count": null,
      "outputs": [
        {
          "output_type": "stream",
          "name": "stdout",
          "text": [
            "5.0\n"
          ]
        }
      ]
    },
    {
      "cell_type": "markdown",
      "source": [
        "#### Função type( ) e Mudança de tipo de variáveis"
      ],
      "metadata": {
        "id": "BgQ_L9KzoBr8"
      }
    },
    {
      "cell_type": "markdown",
      "source": [
        "A função type( ) retorna o tipo da variável ou valor passado como parâmetro."
      ],
      "metadata": {
        "id": "8s5OLqHIoQ_d"
      }
    },
    {
      "cell_type": "code",
      "source": [
        "num = 1522\n",
        "texto = \"Minicurso de Python com o PET Elétrica\"\n",
        "num_dec = 2.5\n",
        "\n",
        "print(type(num))\n",
        "print(type(texto))\n",
        "print(type(num_dec))\n",
        "print(type(\"5\"))"
      ],
      "metadata": {
        "id": "CdFPU0rxmcRM",
        "colab": {
          "base_uri": "https://localhost:8080/"
        },
        "outputId": "cbbe0ca9-9846-4e3d-c52f-b066fd6f4577"
      },
      "execution_count": null,
      "outputs": [
        {
          "output_type": "stream",
          "name": "stdout",
          "text": [
            "<class 'int'>\n",
            "<class 'str'>\n",
            "<class 'float'>\n",
            "<class 'str'>\n"
          ]
        }
      ]
    },
    {
      "cell_type": "code",
      "source": [
        "# Valores de input são sempre string\n",
        "\n",
        "n = input(\"Digite o primeiro número: \")\n",
        "o = input(\"Digite o segundo número: \")\n",
        "\n",
        "print(type(n))\n",
        "print(type(o))\n",
        "\n",
        "print(f\"n = {n}\")\n",
        "print(f\"o = {o}\")\n",
        "\n",
        "print(n + o)"
      ],
      "metadata": {
        "id": "m9KUYXSOmekF",
        "colab": {
          "base_uri": "https://localhost:8080/"
        },
        "outputId": "fdbbea79-b413-40c7-dc6f-3d49d3ccca03"
      },
      "execution_count": null,
      "outputs": [
        {
          "output_type": "stream",
          "name": "stdout",
          "text": [
            "Digite o primeiro número: 15\n",
            "Digite o segundo número: 13\n",
            "<class 'str'>\n",
            "<class 'str'>\n",
            "n = 15\n",
            "o = 13\n",
            "1513\n"
          ]
        }
      ]
    },
    {
      "cell_type": "markdown",
      "source": [
        "####Mudança de Tipo"
      ],
      "metadata": {
        "id": "BTpG36kXWs5j"
      }
    },
    {
      "cell_type": "code",
      "source": [
        "# Conversão\n",
        "\n",
        "a = 50\n",
        "a = int(a)\n",
        "\n",
        "print(type(a))"
      ],
      "metadata": {
        "id": "h7oNcLoYmijL",
        "colab": {
          "base_uri": "https://localhost:8080/"
        },
        "outputId": "abdb8834-6092-414b-f29c-c2c4cbfc75d6"
      },
      "execution_count": null,
      "outputs": [
        {
          "output_type": "stream",
          "name": "stdout",
          "text": [
            "<class 'int'>\n"
          ]
        }
      ]
    },
    {
      "cell_type": "code",
      "source": [
        "# Conversão Direta\n",
        "\n",
        "a = (input(\"Digite o meu valor: \"))\n",
        "b = (int(input(\"Digite o valor de b: \")))\n",
        "\n",
        "print (type(int(a)))\n",
        "print(type(a))\n",
        "print(type(b))"
      ],
      "metadata": {
        "id": "yYrz_UPZmmO4",
        "colab": {
          "base_uri": "https://localhost:8080/"
        },
        "outputId": "004445b5-b3f1-4a8b-b0d1-4d0a5db50f55"
      },
      "execution_count": null,
      "outputs": [
        {
          "output_type": "stream",
          "name": "stdout",
          "text": [
            "Digite o meu valor: 5\n",
            "Digite o valor de b: 4\n",
            "<class 'int'>\n",
            "<class 'str'>\n",
            "<class 'int'>\n"
          ]
        }
      ]
    },
    {
      "cell_type": "markdown",
      "source": [
        "####Exercícios"
      ],
      "metadata": {
        "id": "VlMNuFiZnv8F"
      }
    },
    {
      "cell_type": "markdown",
      "source": [
        "Ex1: Crie um código que leia a idade e o nome de duas pessoas e exiba-os."
      ],
      "metadata": {
        "id": "NQJHeoDXq9mm"
      }
    },
    {
      "cell_type": "code",
      "source": [
        "# Ex1: Escreva seu código de resposta aqui"
      ],
      "metadata": {
        "id": "NVCK8cDRrHZ4"
      },
      "execution_count": null,
      "outputs": []
    },
    {
      "cell_type": "markdown",
      "source": [
        "Ex2: Crie um código que leia a idade e o nome de duas pessoas e exiba na tela nome e o ano de nascimento de cada um."
      ],
      "metadata": {
        "id": "L719loNen1UD"
      }
    },
    {
      "cell_type": "code",
      "source": [
        "# Ex2: Escreva seu código de resposta aqui"
      ],
      "metadata": {
        "id": "iT6J9lPkqb5a"
      },
      "execution_count": null,
      "outputs": []
    },
    {
      "cell_type": "markdown",
      "source": [
        "Ex3: Peça ao usuário para digitar um número e, em seguida, exiba o quadrado desse número.\n"
      ],
      "metadata": {
        "id": "tQjKwIkUvK_x"
      }
    },
    {
      "cell_type": "code",
      "source": [
        "# Ex3: Escreva o código de resposta aqui"
      ],
      "metadata": {
        "id": "JtFI_6-vw7jb"
      },
      "execution_count": null,
      "outputs": []
    },
    {
      "cell_type": "markdown",
      "source": [
        "# Lista de Exercicios Nº 1"
      ],
      "metadata": {
        "id": "PZv4y-JWatF2"
      }
    },
    {
      "cell_type": "markdown",
      "source": [],
      "metadata": {
        "id": "XGobkcqT8SFx"
      }
    },
    {
      "cell_type": "markdown",
      "source": [
        "1) Crie uma variável para armazenar sua idade e exiba uma mensagem dizendo \"Eu tenho X anos\"."
      ],
      "metadata": {
        "id": "moewgaysaMpY"
      }
    },
    {
      "cell_type": "code",
      "source": [
        "# 1) Escreva o código de resposta"
      ],
      "metadata": {
        "id": "4ziVzptiaRKu"
      },
      "execution_count": null,
      "outputs": []
    },
    {
      "cell_type": "markdown",
      "source": [
        "2) Peça ao usuário para digitar sua idade e, em seguida, calcule e exiba a idade que a pessoa terá daqui a 10 anos."
      ],
      "metadata": {
        "id": "Pd14ok8GaXsQ"
      }
    },
    {
      "cell_type": "code",
      "source": [
        "# 2) Escreva o código de resposta aqui"
      ],
      "metadata": {
        "id": "2O6Yc8ltaYl6"
      },
      "execution_count": null,
      "outputs": []
    },
    {
      "cell_type": "markdown",
      "source": [
        "3) Peça ao usuário para digitar dois números e, em seguida, exiba o quadrado da soma desses números.\n"
      ],
      "metadata": {
        "id": "4UylnRb8bWWQ"
      }
    },
    {
      "cell_type": "code",
      "source": [
        "# 3) Escreva o código de resposta aqui"
      ],
      "metadata": {
        "id": "PhEH6NalbeYN"
      },
      "execution_count": null,
      "outputs": []
    },
    {
      "cell_type": "markdown",
      "source": [
        "4)  Um aluno chega ao final do período e está preocupado com sua desempenho na disciplina de Circuitos Elétricos 1. Crie um sistema de cálculo que receba as notas desse aluno e informe a média final.\n",
        "\n"
      ],
      "metadata": {
        "id": "92wY5zjNbhg4"
      }
    },
    {
      "cell_type": "code",
      "source": [
        "# 4) Escreva o código de resposta aqui"
      ],
      "metadata": {
        "id": "dzo4wYNCbnGJ"
      },
      "execution_count": null,
      "outputs": []
    }
  ]
}