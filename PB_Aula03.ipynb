{
  "nbformat": 4,
  "nbformat_minor": 0,
  "metadata": {
    "colab": {
      "provenance": []
    },
    "kernelspec": {
      "name": "python3",
      "display_name": "Python 3"
    },
    "language_info": {
      "name": "python"
    }
  },
  "cells": [
    {
      "cell_type": "markdown",
      "source": [
        "###Python Básico - Aula 03\n",
        "\n",
        "Conteúdo:\n",
        "\n",
        "\n",
        "\n",
        "*   Listas\n",
        "*   For\n",
        "*   Dicionários\n",
        "\n",
        "\n",
        "\n",
        "\n"
      ],
      "metadata": {
        "id": "5T9-ykBZ5M5y"
      }
    },
    {
      "cell_type": "markdown",
      "source": [
        "##Listas\n",
        "\n",
        "Como criar e acessar elementos de uma lista."
      ],
      "metadata": {
        "id": "05V88uDH7PNA"
      }
    },
    {
      "cell_type": "code",
      "source": [
        "# Exemplo 1\n",
        "\n",
        "L1 = [7, \"Olá mundo\", 3.1415]\n",
        "\n",
        "# Verificando o tipo da variável L1\n",
        "\n",
        "print(type(L1))"
      ],
      "metadata": {
        "colab": {
          "base_uri": "https://localhost:8080/"
        },
        "id": "bAPU6Osf6wki",
        "outputId": "72468380-d019-4229-a014-65e970c2d09f"
      },
      "execution_count": null,
      "outputs": [
        {
          "output_type": "stream",
          "name": "stdout",
          "text": [
            "<class 'list'>\n"
          ]
        }
      ]
    },
    {
      "cell_type": "code",
      "source": [
        "# Exemplo 2\n",
        "\n",
        "L1 = [7, \"Olá mundo\", 3.1415]\n",
        "\n",
        "# Acessando o primeiro elemento e o terceiro e os somando.\n",
        "\n",
        "print(L1[0] + L1[2])"
      ],
      "metadata": {
        "id": "1gBi2xuzboXr",
        "colab": {
          "base_uri": "https://localhost:8080/"
        },
        "outputId": "994f011b-19e6-42ad-b842-218b8b6ff5d9"
      },
      "execution_count": null,
      "outputs": [
        {
          "output_type": "stream",
          "name": "stdout",
          "text": [
            "10.1415\n"
          ]
        }
      ]
    },
    {
      "cell_type": "markdown",
      "source": [
        "É importante lembrar que todos as função usadas até então valem para listas."
      ],
      "metadata": {
        "id": "chdvNZRQ0XS3"
      }
    },
    {
      "cell_type": "code",
      "source": [
        "# Exemplo 3\n",
        "# Verificando a quantidade de elementos em uma lista\n",
        "\n",
        "l2 = [0, 'oi', 4.5, 8, 10]\n",
        "\n",
        "print(len(l2))\n",
        "print(l2)"
      ],
      "metadata": {
        "id": "bO9y583I0g7Z",
        "colab": {
          "base_uri": "https://localhost:8080/"
        },
        "outputId": "35ae8634-33b0-4ea9-fa7f-7f368de9e5a3"
      },
      "execution_count": null,
      "outputs": [
        {
          "output_type": "stream",
          "name": "stdout",
          "text": [
            "5\n",
            "[0, 'oi', 4.5, 8, 10]\n"
          ]
        }
      ]
    },
    {
      "cell_type": "markdown",
      "source": [
        "## Métodos e funções para manipulação de Listas\n",
        "\n",
        "Descrição e exemplificação de métodos básicos de manipulações de listas."
      ],
      "metadata": {
        "id": "jMGKizYd5lLP"
      }
    },
    {
      "cell_type": "markdown",
      "source": [
        "### Construindo uma lista do zero\n",
        "\n",
        "lista.append(valor) esse método insere um valor ao final da lista. Então se uma lista vazia for criada, basta usar o append para preenchê-la."
      ],
      "metadata": {
        "id": "Gwn3VLoQ1Jbg"
      }
    },
    {
      "cell_type": "code",
      "source": [
        "# Exemplo 4\n",
        "\n",
        "lista = []\n",
        "\n",
        "print(lista)\n",
        "\n",
        "lista.append(5)\n",
        "lista.append(100)\n",
        "lista.append(\"ola\")\n",
        "\n",
        "print(lista)"
      ],
      "metadata": {
        "colab": {
          "base_uri": "https://localhost:8080/"
        },
        "id": "l0HqnOgE1Mth",
        "outputId": "00a89ee5-27a3-44fd-d8a4-ccb3bf806324"
      },
      "execution_count": null,
      "outputs": [
        {
          "output_type": "stream",
          "name": "stdout",
          "text": [
            "[]\n",
            "[5, 100, 'ola']\n"
          ]
        }
      ]
    },
    {
      "cell_type": "markdown",
      "source": [
        "### Criando uma cópia da lista e deletando elementos"
      ],
      "metadata": {
        "id": "ahOrNhgZ3YKa"
      }
    },
    {
      "cell_type": "code",
      "source": [
        "# Exemplo 5\n",
        "# Método INCORRETO de copiar uma lista\n",
        "\n",
        "compras = ['arroz', 'feijão', 'óleo de soja', 'macarrão', 'detergente', 'tomate', 'cebola']\n",
        "\n",
        "copia = compras\n",
        "\n",
        "print(\"ANTES DE MODIFICAR\")\n",
        "print(\"Compras:\")\n",
        "print(compras)\n",
        "print(\"Cópia:\")\n",
        "print(copia, \"\\n\")\n",
        "\n",
        "copia.append(\"Leite\")\n",
        "print(\"DEPOIS DE MODIFICAR\")\n",
        "print(\"Compras:\")\n",
        "print(compras)\n",
        "print(\"Cópia:\")\n",
        "print(copia, \"\\n\")"
      ],
      "metadata": {
        "id": "hxRb0KxxdOO_",
        "colab": {
          "base_uri": "https://localhost:8080/"
        },
        "outputId": "2e89538a-881f-4db3-efeb-177bbee4ec4c"
      },
      "execution_count": null,
      "outputs": [
        {
          "output_type": "stream",
          "name": "stdout",
          "text": [
            "ANTES DE MODIFICAR\n",
            "Compras:\n",
            "['arroz', 'feijão', 'óleo de soja', 'macarrão', 'detergente', 'tomate', 'cebola']\n",
            "Cópia:\n",
            "['arroz', 'feijão', 'óleo de soja', 'macarrão', 'detergente', 'tomate', 'cebola'] \n",
            "\n",
            "DEPOIS DE MODIFICAR\n",
            "Compras:\n",
            "['arroz', 'feijão', 'óleo de soja', 'macarrão', 'detergente', 'tomate', 'cebola', 'Leite']\n",
            "Cópia:\n",
            "['arroz', 'feijão', 'óleo de soja', 'macarrão', 'detergente', 'tomate', 'cebola', 'Leite'] \n",
            "\n"
          ]
        }
      ]
    },
    {
      "cell_type": "code",
      "source": [
        "# Exemplo 6\n",
        "# Método CORRETO de copiar uma lista\n",
        "\n",
        "compras = ['arroz', 'feijão', 'óleo de soja', 'macarrão', 'detergente', 'tomate', 'cebola']\n",
        "\n",
        "copia = compras.copy()\n",
        "copia.append(\"Leite\")\n",
        "\n",
        "print(compras)\n",
        "print(copia)"
      ],
      "metadata": {
        "colab": {
          "base_uri": "https://localhost:8080/"
        },
        "id": "5fUw_2Mh5BW3",
        "outputId": "bd093b87-f076-4682-f999-3ce850b5bfb3"
      },
      "execution_count": null,
      "outputs": [
        {
          "output_type": "stream",
          "name": "stdout",
          "text": [
            "['arroz', 'feijão', 'óleo de soja', 'macarrão', 'detergente', 'tomate', 'cebola']\n",
            "['arroz', 'feijão', 'óleo de soja', 'macarrão', 'detergente', 'tomate', 'cebola', 'Leite']\n"
          ]
        }
      ]
    },
    {
      "cell_type": "markdown",
      "source": [
        "### Deletando um elemento"
      ],
      "metadata": {
        "id": "hXe41vyg5UcF"
      }
    },
    {
      "cell_type": "markdown",
      "source": [
        "**del** remove o elemento a partir do índice"
      ],
      "metadata": {
        "id": "SSMESwiq6fd2"
      }
    },
    {
      "cell_type": "code",
      "source": [
        "# Exemplo 7\n",
        "compras = ['arroz', 'feijão', 'óleo de soja', 'macarrão', 'detergente', 'tomate', 'cebola']\n",
        "print(compras)\n",
        "\n",
        "del compras[1]\n",
        "print(compras)"
      ],
      "metadata": {
        "id": "irQIToELINf4",
        "colab": {
          "base_uri": "https://localhost:8080/"
        },
        "outputId": "ec0d5426-4a2a-45bc-82c1-d6544d340873"
      },
      "execution_count": null,
      "outputs": [
        {
          "output_type": "stream",
          "name": "stdout",
          "text": [
            "['arroz', 'feijão', 'óleo de soja', 'macarrão', 'detergente', 'tomate', 'cebola']\n",
            "['arroz', 'óleo de soja', 'macarrão', 'detergente', 'tomate', 'cebola']\n"
          ]
        }
      ]
    },
    {
      "cell_type": "markdown",
      "source": [],
      "metadata": {
        "id": "1OESKaPj6pJJ"
      }
    },
    {
      "cell_type": "markdown",
      "source": [
        "####Exercício 1"
      ],
      "metadata": {
        "id": "C84zdB-Xhvid"
      }
    },
    {
      "cell_type": "code",
      "source": [
        "# Escreva sua resposta aqui"
      ],
      "metadata": {
        "id": "DZ4YFsM5iDAx"
      },
      "execution_count": null,
      "outputs": []
    },
    {
      "cell_type": "markdown",
      "source": [
        "####Exercício 2"
      ],
      "metadata": {
        "id": "WZC6f3HsBqHo"
      }
    },
    {
      "cell_type": "code",
      "source": [
        "# Escreva sua resposta aqui"
      ],
      "metadata": {
        "id": "KlGxFr4WBvUK"
      },
      "execution_count": null,
      "outputs": []
    },
    {
      "cell_type": "code",
      "source": [
        "# Exemplo 8\n",
        "\n",
        "matriz1 = [[0,1,2],[3,4,5], [6,7,8]]\n",
        "\n",
        "matriz2 = [[0,1,2],\n",
        "          [3,4,5],\n",
        "          [6,7,8]]\n",
        "\n",
        "# Imprimindo as matrizes\n",
        "print(matriz1)\n",
        "print(matriz2)\n",
        "\n",
        "# Imprimindo as matrizes\n",
        "print(matriz1[0][2])\n",
        "print(matriz2[1][1])"
      ],
      "metadata": {
        "id": "jU9ESNRBMIfu"
      },
      "execution_count": null,
      "outputs": []
    },
    {
      "cell_type": "markdown",
      "source": [
        "####Exercício 3"
      ],
      "metadata": {
        "id": "JvXLRGYDMH0X"
      }
    },
    {
      "cell_type": "code",
      "source": [
        "# Escreva sua resposta aqui"
      ],
      "metadata": {
        "id": "7B_sSleLMUDW"
      },
      "execution_count": null,
      "outputs": []
    },
    {
      "cell_type": "markdown",
      "source": [
        "## For\n",
        "\n",
        "É usado para iterar um objeto como listas, tuplas, **range**."
      ],
      "metadata": {
        "id": "pbCgiBnakvD2"
      }
    },
    {
      "cell_type": "code",
      "source": [
        "# Exemplo 9\n",
        "\n",
        "lista = [\"Pão\", \"carne\", \"mel\", \"granola\"]\n",
        "\n",
        "for i in lista:\n",
        "  print(i)"
      ],
      "metadata": {
        "colab": {
          "base_uri": "https://localhost:8080/"
        },
        "id": "rwG5yQXHCLdy",
        "outputId": "fd99bda7-692f-4a47-c66c-9289b6f83c38"
      },
      "execution_count": null,
      "outputs": [
        {
          "output_type": "stream",
          "name": "stdout",
          "text": [
            "Pão\n",
            "carne\n",
            "mel\n",
            "granola\n"
          ]
        }
      ]
    },
    {
      "cell_type": "markdown",
      "source": [
        "Observação importante: *i* é um nome arbitrário. Poderia ser variavel, iterador... O que o programador quiser, contanto que respeite as regras de nome de variável."
      ],
      "metadata": {
        "id": "St0fGYqiN0Ou"
      }
    },
    {
      "cell_type": "markdown",
      "source": [
        "####Exercício 4"
      ],
      "metadata": {
        "id": "QUdUdYq1K7ym"
      }
    },
    {
      "cell_type": "code",
      "source": [
        "# Escreva sua resposta aqui"
      ],
      "metadata": {
        "id": "eTn8QUfJK--i"
      },
      "execution_count": null,
      "outputs": []
    },
    {
      "cell_type": "markdown",
      "source": [
        "### Range"
      ],
      "metadata": {
        "id": "Bs6JDcUBGnkY"
      }
    },
    {
      "cell_type": "code",
      "source": [
        "# Exemplo 10\n",
        "intervalo = range(1,10,2)\n",
        "\n",
        "print(type(intervalo))\n",
        "\n",
        "print(\"O que acontece ao imprimir um objeto do tipo range?\")\n",
        "print(intervalo, \"\\n\")\n",
        "\n",
        "print(\"Tamanho do objeto\")\n",
        "print(len(intervalo), \"\\n\")\n",
        "\n",
        "print(\"Valores do objeto\")\n",
        "print(intervalo[0], \"\\n\")\n",
        "print(intervalo[1], \"\\n\")\n",
        "print(intervalo[2], \"\\n\")\n",
        "print(intervalo[3], \"\\n\")\n",
        "print(intervalo[4], \"\\n\")"
      ],
      "metadata": {
        "colab": {
          "base_uri": "https://localhost:8080/"
        },
        "id": "A722DlPSGrBT",
        "outputId": "181708e1-2d12-4b1c-f256-3c7ce7945061"
      },
      "execution_count": null,
      "outputs": [
        {
          "output_type": "stream",
          "name": "stdout",
          "text": [
            "<class 'range'>\n",
            "O que acontece ao imprimir um objeto do tipo range?\n",
            "range(1, 10, 2) \n",
            "\n",
            "Tamanho do objeto\n",
            "5 \n",
            "\n",
            "Valores do objeto\n",
            "1 \n",
            "\n",
            "3 \n",
            "\n",
            "5 \n",
            "\n",
            "7 \n",
            "\n",
            "9 \n",
            "\n"
          ]
        }
      ]
    },
    {
      "cell_type": "markdown",
      "source": [
        "### Usando o for sobre o range"
      ],
      "metadata": {
        "id": "_M6Nk6RHHqDP"
      }
    },
    {
      "cell_type": "code",
      "source": [
        "# Exemplo 11\n",
        "\n",
        "for i in range(0,10):\n",
        "  print(f\"Repetição {i}\")"
      ],
      "metadata": {
        "colab": {
          "base_uri": "https://localhost:8080/"
        },
        "id": "_lhUkhUSHvkf",
        "outputId": "9b1cbb4e-b9e4-4a22-9060-beaff8187349"
      },
      "execution_count": null,
      "outputs": [
        {
          "output_type": "stream",
          "name": "stdout",
          "text": [
            "Repetição 0\n",
            "Repetição 1\n",
            "Repetição 2\n",
            "Repetição 3\n",
            "Repetição 4\n",
            "Repetição 5\n",
            "Repetição 6\n",
            "Repetição 7\n",
            "Repetição 8\n",
            "Repetição 9\n"
          ]
        }
      ]
    },
    {
      "cell_type": "code",
      "source": [
        "# Exemplo 12\n",
        "# O i não precisa aparecer no código.\n",
        "\n",
        "for i in range(10):\n",
        "  print(f\"Repetição\")"
      ],
      "metadata": {
        "colab": {
          "base_uri": "https://localhost:8080/"
        },
        "id": "z1r6O4m6Od69",
        "outputId": "ace36e8b-16fc-4c05-8032-8c7447599c9e"
      },
      "execution_count": null,
      "outputs": [
        {
          "output_type": "stream",
          "name": "stdout",
          "text": [
            "Repetição\n",
            "Repetição\n",
            "Repetição\n",
            "Repetição\n",
            "Repetição\n",
            "Repetição\n",
            "Repetição\n",
            "Repetição\n",
            "Repetição\n",
            "Repetição\n"
          ]
        }
      ]
    },
    {
      "cell_type": "markdown",
      "source": [
        "####Exercício 5"
      ],
      "metadata": {
        "id": "QX-BCfU1O98P"
      }
    },
    {
      "cell_type": "code",
      "source": [
        "# Escreva sua resposta aqui"
      ],
      "metadata": {
        "id": "dVyR0CnoPHcA"
      },
      "execution_count": null,
      "outputs": []
    },
    {
      "cell_type": "markdown",
      "source": [
        "####Exercício 6"
      ],
      "metadata": {
        "id": "SWrIzehGxa87"
      }
    },
    {
      "cell_type": "code",
      "source": [
        "# Escreva sua resposta aqui"
      ],
      "metadata": {
        "id": "IKs2HMw8xeY1"
      },
      "execution_count": null,
      "outputs": []
    },
    {
      "cell_type": "markdown",
      "source": [
        "####Desafio"
      ],
      "metadata": {
        "id": "Sx1i6VGwxftL"
      }
    },
    {
      "cell_type": "code",
      "source": [
        "# Escreva sua resposta aqui"
      ],
      "metadata": {
        "id": "EYeW0ejnxqOD"
      },
      "execution_count": null,
      "outputs": []
    }
  ]
}