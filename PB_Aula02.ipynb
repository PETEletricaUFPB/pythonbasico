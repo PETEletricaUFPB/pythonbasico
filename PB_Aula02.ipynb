{
  "nbformat": 4,
  "nbformat_minor": 0,
  "metadata": {
    "colab": {
      "provenance": []
    },
    "kernelspec": {
      "name": "python3",
      "display_name": "Python 3"
    },
    "language_info": {
      "name": "python"
    }
  },
  "cells": [
    {
      "cell_type": "markdown",
      "source": [
        "###Python Básico - Aula 02\n",
        "\n",
        "Conteúdo:\n",
        "\n",
        "\n",
        "\n",
        "*   Estruturas de Controle e Repetição\n",
        "*   Operadores Lógicos\n",
        "*   if, else, elif\n",
        "*   while\n",
        "\n",
        "\n",
        "\n"
      ],
      "metadata": {
        "id": "5T9-ykBZ5M5y"
      }
    },
    {
      "cell_type": "markdown",
      "source": [
        "####Comparação\n",
        "\n",
        "Operadores utilizados para realizar comparações entre valores."
      ],
      "metadata": {
        "id": "05V88uDH7PNA"
      }
    },
    {
      "cell_type": "code",
      "source": [
        "# Exemplo 1\n",
        "\n",
        "nota = float(input(\"Informe sua nota: \"))\n",
        "comp1 = nota > 7\n",
        "comp2 = nota < 7\n",
        "\n",
        "# Note que em python, os valores booleanos são 'true' ou 'false'\n",
        "print(comp1)\n",
        "print(comp2)\n",
        "#print(type(comp1))\n"
      ],
      "metadata": {
        "id": "bAPU6Osf6wki",
        "colab": {
          "base_uri": "https://localhost:8080/"
        },
        "outputId": "a44fea67-f3c6-478e-8ac4-7e74c63cdb0e"
      },
      "execution_count": null,
      "outputs": [
        {
          "output_type": "stream",
          "name": "stdout",
          "text": [
            "Informe sua nota: 9\n",
            "True\n",
            "False\n"
          ]
        }
      ]
    },
    {
      "cell_type": "markdown",
      "source": [
        "Exercício 1\n",
        "\n",
        "Faça um código que leia a idade do usuário e imponha condições na qual diga se ele é maior de idade."
      ],
      "metadata": {
        "id": "rW87dTGfwI0p"
      }
    },
    {
      "cell_type": "code",
      "source": [
        "# 1) Escreva o código de resposta aqui"
      ],
      "metadata": {
        "id": "p2eyPSyAwIcL"
      },
      "execution_count": null,
      "outputs": []
    },
    {
      "cell_type": "code",
      "source": [
        "# Exemplo 2\n",
        "\n",
        "nota = float(input(\"Digite a nota do aluno: \"))\n",
        "\n",
        "if nota < 7:\n",
        "  print(\"Aluno reprovado\")\n",
        "\n",
        "print(\"Texto ilustrativo fora da identação\")"
      ],
      "metadata": {
        "id": "HhWkTZ-cL063",
        "colab": {
          "base_uri": "https://localhost:8080/"
        },
        "outputId": "edc6245c-fbfa-41ee-ab82-40f89096d130"
      },
      "execution_count": null,
      "outputs": [
        {
          "output_type": "stream",
          "name": "stdout",
          "text": [
            "Digite a nota do aluno: 9\n",
            "Texto ilustrativo fora da identação\n"
          ]
        }
      ]
    },
    {
      "cell_type": "code",
      "source": [
        "# Exemplo 3\n",
        "\n",
        "nota = float(input(\"Digite a nota do aluno: \"))\n",
        "\n",
        "if (nota < 7):\n",
        "  print(\"Aluno reprovado!\")\n",
        "\n",
        "else:\n",
        "  print(\"Aluno aprovado!\")"
      ],
      "metadata": {
        "id": "hxRb0KxxdOO_",
        "colab": {
          "base_uri": "https://localhost:8080/"
        },
        "outputId": "a9a87f8b-c2ed-45a2-b803-a74d280561e8"
      },
      "execution_count": null,
      "outputs": [
        {
          "output_type": "stream",
          "name": "stdout",
          "text": [
            "Digite a nota do aluno: 9\n",
            "Aluno aprovado!\n"
          ]
        }
      ]
    },
    {
      "cell_type": "markdown",
      "source": [
        "Exercício 2\n",
        "\n",
        "Crie um código que mostre se o usuário tem obrigatoriedade de votar."
      ],
      "metadata": {
        "id": "-u__f660fRi1"
      }
    },
    {
      "cell_type": "code",
      "source": [
        "# 2) Escreva o código de resposta aqui"
      ],
      "metadata": {
        "id": "WDcT553Gg0SL"
      },
      "execution_count": null,
      "outputs": []
    },
    {
      "cell_type": "code",
      "source": [
        "# Exemplo 4\n",
        "\n",
        "nota = float(input(\"Digite a nota do aluno: \"))\n",
        "\n",
        "if (nota == -1):\n",
        "  print(\"Aluno não fez a prova!\")\n",
        "\n",
        "elif (nota <= 7):\n",
        "  print(\"Aluno reprovado!\")\n",
        "\n",
        "else:\n",
        "  print(\"Aluno Aprovado!\")"
      ],
      "metadata": {
        "id": "irQIToELINf4"
      },
      "execution_count": null,
      "outputs": []
    },
    {
      "cell_type": "code",
      "source": [
        "#Exemplo 5 Verificar se um número está entre 10 e 20\n",
        "num = 15\n",
        "if num >= 10 and num <= 20:\n",
        "    print(\"O número está entre 10 e 20.\")\n",
        "\n",
        "# Verificar se um número é par e está entre 20 e 30\n",
        "num = 24\n",
        "if num % 2 == 0 and num >= 20 and num <= 30:\n",
        "    print(\"O número é par e está entre 20 e 30.\")\n"
      ],
      "metadata": {
        "id": "UKXK_32y9sto"
      },
      "execution_count": null,
      "outputs": []
    },
    {
      "cell_type": "code",
      "source": [
        "# Exemplo 6: Verificar se um número é positivo e ímpar ou é zero\n",
        "num = 7\n",
        "if (num > 0 and num % 2 != 0) or num == 0:\n",
        "    print(\"O número é positivo e ímpar ou é zero.\")"
      ],
      "metadata": {
        "id": "Jekk-MeChB9i"
      },
      "execution_count": null,
      "outputs": []
    },
    {
      "cell_type": "markdown",
      "source": [
        "Exercicío 3\n",
        "\n",
        "Faça um programa que leia dois números inteiros. Se ambos forem pares, mostre a soma dos dois. Se apenas o primeiro for par, mostre o produto dos dois. Se apenas o segundo for par, informe que ocorreu erro. Se ambos forem ímpares, mostre a divisão do primeiro pelo segundo."
      ],
      "metadata": {
        "id": "Si9P7FGp5mS-"
      }
    },
    {
      "cell_type": "code",
      "source": [
        "# 3) Escreva o código de resposta aqui"
      ],
      "metadata": {
        "id": "DZ4YFsM5iDAx",
        "colab": {
          "base_uri": "https://localhost:8080/"
        },
        "outputId": "851819ff-5816-4ae1-ba84-b5e43dab88c4"
      },
      "execution_count": null,
      "outputs": [
        {
          "output_type": "stream",
          "name": "stdout",
          "text": [
            "3628800\n"
          ]
        }
      ]
    },
    {
      "cell_type": "markdown",
      "source": [
        "Exercício 4\n",
        "\n",
        "Crie uma calculadora simples que pede ao usuário para inserir dois números e uma operação (adição, subtração, multiplicação ou divisão) e exiba o resultado."
      ],
      "metadata": {
        "id": "JX3N2uLCDPmn"
      }
    },
    {
      "cell_type": "code",
      "source": [
        "# 1) Escreva o código de resposta aqui"
      ],
      "metadata": {
        "id": "oIRcPQzjDRf7"
      },
      "execution_count": null,
      "outputs": []
    },
    {
      "cell_type": "markdown",
      "source": [
        "#### while\n",
        "\n",
        "Executa determinado código enquanto a condição de funcionamento for satisfeita."
      ],
      "metadata": {
        "id": "pbCgiBnakvD2"
      }
    },
    {
      "cell_type": "code",
      "source": [
        "# Exemplo 6\n",
        "\n",
        "contador = 0\n",
        "\n",
        "while contador < 6:\n",
        "  print(contador)\n",
        "  print(\"Meu primeiro loop\")\n",
        "  contador = contador + 1 #incrementar\n",
        "\n",
        "print(\"Fim do loop\")"
      ],
      "metadata": {
        "colab": {
          "base_uri": "https://localhost:8080/"
        },
        "id": "8fvj6b06e4_y",
        "outputId": "1eb6bc84-7652-44b6-fc15-44a129884c41"
      },
      "execution_count": null,
      "outputs": [
        {
          "output_type": "stream",
          "name": "stdout",
          "text": [
            "0\n",
            "Meu primeiro loop\n",
            "1\n",
            "Meu primeiro loop\n",
            "2\n",
            "Meu primeiro loop\n",
            "3\n",
            "Meu primeiro loop\n",
            "4\n",
            "Meu primeiro loop\n",
            "5\n",
            "Meu primeiro loop\n",
            "Fim do loop\n"
          ]
        }
      ]
    },
    {
      "cell_type": "code",
      "source": [
        "# Inicializa o fatorial como 1\n",
        "fatorial = 1\n",
        "\n",
        "# Inicializa o número para o qual queremos calcular o fatorial\n",
        "numero = 100\n",
        "\n",
        "# Usa um loop while para calcular o fatorial\n",
        "while numero > 1:\n",
        "    fatorial *= numero #fatorial = fatorial * numero\n",
        "    numero -= 1 #decrementar\n",
        "\n",
        "# Imprime o resultado\n",
        "print(f'O fatorial de 100 é: {fatorial}')\n"
      ],
      "metadata": {
        "id": "pj7o1Qv5PARa"
      },
      "execution_count": null,
      "outputs": []
    },
    {
      "cell_type": "markdown",
      "source": [
        "Exercício 5\n",
        "\n",
        "Crie uma tabuada de um número n passado pelo usuário.\n",
        "\n",
        "Ex.:\n",
        "\n",
        "Entrada:\n",
        "n = 7\n",
        "\n",
        "Saída:\n",
        "\n",
        "7 x 1 = 7\n",
        "\n",
        "7 x 2 = 14\n",
        "\n",
        ".\n",
        "\n",
        ".\n",
        "\n",
        ".\n",
        "\n",
        "7 x 10 = 70"
      ],
      "metadata": {
        "id": "jJzz0Hzal_EW"
      }
    },
    {
      "cell_type": "code",
      "source": [
        "# 1) Escreva o código de resposta aqui"
      ],
      "metadata": {
        "id": "1KFlkaoinHcF"
      },
      "execution_count": null,
      "outputs": []
    },
    {
      "cell_type": "markdown",
      "source": [
        "\n",
        "\n",
        "\n",
        "EXTRA: USO DO BREAK"
      ],
      "metadata": {
        "id": "LVVfKvoux_Da"
      }
    },
    {
      "cell_type": "markdown",
      "source": [
        "Faça um programa que tenha como saída \"1\" de forma infinita."
      ],
      "metadata": {
        "id": "ugLP6TOKyNNm"
      }
    },
    {
      "cell_type": "code",
      "source": [
        "# Exemplo 6\n",
        "\n",
        "while(True):\n",
        "  print(1)\n",
        "  break"
      ],
      "metadata": {
        "colab": {
          "base_uri": "https://localhost:8080/"
        },
        "id": "qBlp2jF_x-At",
        "outputId": "3ffd3be8-fd2e-4065-a3c4-32a6cdfad34e"
      },
      "execution_count": null,
      "outputs": [
        {
          "output_type": "stream",
          "name": "stdout",
          "text": [
            "1\n"
          ]
        }
      ]
    },
    {
      "cell_type": "markdown",
      "source": [
        "# Lista de Exercícios Nº 2"
      ],
      "metadata": {
        "id": "0G_czOm64yO-"
      }
    },
    {
      "cell_type": "markdown",
      "source": [
        "1) Escreva um programa que peça ao usuário para digitar sua idade e verifique se ele é maior de idade (idade maior ou igual a 18) ou não."
      ],
      "metadata": {
        "id": "Da3Qaqam42w7"
      }
    },
    {
      "cell_type": "code",
      "source": [
        "# 1) Escreva o código de resposta aqui"
      ],
      "metadata": {
        "id": "bieWszJOmTrz"
      },
      "execution_count": null,
      "outputs": []
    },
    {
      "cell_type": "markdown",
      "source": [
        "2) Peça ao usuário para digitar dois números e exiba o maior deles.\n",
        "\n",
        "\n"
      ],
      "metadata": {
        "id": "23U6lh6-mUYz"
      }
    },
    {
      "cell_type": "code",
      "source": [
        "# 2) Escreva o código de resposta aqui"
      ],
      "metadata": {
        "id": "XPHVPqz448xy"
      },
      "execution_count": null,
      "outputs": []
    },
    {
      "cell_type": "markdown",
      "source": [
        "3) Crie um programa que solicite ao usuário uma nota de 0 a 10 e exiba uma mensagem correspondente, como \"Aprovado\" ou \"Reprovado\", considere a média sendo igual a 7."
      ],
      "metadata": {
        "id": "RqEatENG49bZ"
      }
    },
    {
      "cell_type": "code",
      "source": [
        "# 3) Escreva o código de resposta aqui"
      ],
      "metadata": {
        "id": "OznI4lk-5ATo"
      },
      "execution_count": null,
      "outputs": []
    },
    {
      "cell_type": "markdown",
      "source": [
        "4) Crie um programa que peça ao usuário para adivinhar um número entre 1 e 100. Dê dicas se o palpite for muito alto ou muito baixo, e informe quantas tentativas foram necessárias."
      ],
      "metadata": {
        "id": "VLZ4vOnZ5A13"
      }
    },
    {
      "cell_type": "code",
      "source": [
        "# 4) Escreva o código de resposta aqui"
      ],
      "metadata": {
        "id": "6yYKhWlB5Dhj"
      },
      "execution_count": null,
      "outputs": []
    }
  ]
}